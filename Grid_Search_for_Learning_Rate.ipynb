{
  "nbformat": 4,
  "nbformat_minor": 0,
  "metadata": {
    "colab": {
      "provenance": [],
      "authorship_tag": "ABX9TyOoqpCxLIAGnckYJ5YqUZ3Y",
      "include_colab_link": true
    },
    "kernelspec": {
      "name": "python3",
      "display_name": "Python 3"
    },
    "language_info": {
      "name": "python"
    }
  },
  "cells": [
    {
      "cell_type": "markdown",
      "metadata": {
        "id": "view-in-github",
        "colab_type": "text"
      },
      "source": [
        "<a href=\"https://colab.research.google.com/github/r-rahulsingh/GradientDescent/blob/main/Grid_Search_for_Learning_Rate.ipynb\" target=\"_parent\"><img src=\"https://colab.research.google.com/assets/colab-badge.svg\" alt=\"Open In Colab\"/></a>"
      ]
    },
    {
      "cell_type": "code",
      "execution_count": 1,
      "metadata": {
        "colab": {
          "base_uri": "https://localhost:8080/"
        },
        "id": "ATcmzMhkOk1w",
        "outputId": "793ee482-b8b3-4b88-b11b-0346fcbded71"
      },
      "outputs": [
        {
          "output_type": "stream",
          "name": "stdout",
          "text": [
            "Best Learning Rate (eta0): 0.1\n",
            "Best Cross-Validated MSE: 0.8615763111385499\n",
            "Final MSE on Entire Dataset: 0.8088489871012524\n"
          ]
        }
      ],
      "source": [
        "from sklearn.linear_model import SGDRegressor\n",
        "from sklearn.model_selection import GridSearchCV\n",
        "from sklearn.preprocessing import StandardScaler\n",
        "from sklearn.metrics import mean_squared_error, make_scorer\n",
        "import numpy as np\n",
        "\n",
        "# Generate synthetic dataset\n",
        "np.random.seed(42)\n",
        "X = 2 * np.random.rand(100, 1)\n",
        "y = 4 + 3 * X + np.random.randn(100, 1)\n",
        "\n",
        "# Scale the features\n",
        "scaler = StandardScaler()\n",
        "X_scaled = scaler.fit_transform(X)\n",
        "\n",
        "# Define the model and hyperparameter grid\n",
        "sgd = SGDRegressor(max_iter=1000, tol=1e-3, random_state=42)\n",
        "param_grid = {'eta0': [0.0001, 0.001, 0.01, 0.1, 1]}  # Learning rate grid\n",
        "\n",
        "# Define the scoring metric\n",
        "mse_scorer = make_scorer(mean_squared_error, greater_is_better=False)\n",
        "\n",
        "# Perform grid search\n",
        "grid_search = GridSearchCV(sgd, param_grid, scoring=mse_scorer, cv=3, n_jobs=-1)\n",
        "grid_search.fit(X_scaled, y.ravel())\n",
        "\n",
        "# Results\n",
        "print(\"Best Learning Rate (eta0):\", grid_search.best_params_['eta0'])\n",
        "print(\"Best Cross-Validated MSE:\", -grid_search.best_score_)\n",
        "\n",
        "# Evaluate the best model on the entire dataset\n",
        "best_model = grid_search.best_estimator_\n",
        "y_pred = best_model.predict(X_scaled)\n",
        "final_mse = mean_squared_error(y, y_pred)\n",
        "print(\"Final MSE on Entire Dataset:\", final_mse)\n"
      ]
    },
    {
      "cell_type": "code",
      "source": [],
      "metadata": {
        "id": "yMsmt26uOlxe"
      },
      "execution_count": null,
      "outputs": []
    }
  ]
}